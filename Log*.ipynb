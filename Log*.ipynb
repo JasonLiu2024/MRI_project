{
 "cells": [
  {
   "attachments": {},
   "cell_type": "markdown",
   "metadata": {},
   "source": [
    "<span style=\"color:#33FF9E\">\n",
    "\n",
    "# **Logs**\n",
    "\n",
    "</span>"
   ]
  },
  {
   "attachments": {},
   "cell_type": "markdown",
   "metadata": {},
   "source": [
    "# March 26, 2023\n",
    "1. unet_model.py\n",
    "changed everything back to default\n",
    "<br>assumption: train.py says n_classes = number of probabilities we want to output\n",
    "<br>if we make n_classes = dimension of image, maybe we get image output?\n",
    "\n",
    "2. train.py\n",
    "changed model's initial n_channels value to 2 (was 3)"
   ]
  },
  {
   "attachments": {},
   "cell_type": "markdown",
   "metadata": {},
   "source": [
    "# Thursday March 30, 2023\n",
    "Did:\n",
    "1. Met with Weijie\n",
    ">I have been doing it wrong. I thought I needed to change milesai's implementation, and could not figure anything out"
   ]
  },
  {
   "attachments": {},
   "cell_type": "markdown",
   "metadata": {},
   "source": [
    "# Saturday April 1, 2023\n",
    "Did:\n",
    "1. Draft.ipynb\n",
    ">0. Sketched out steps needed based on PyTorch tutorial and CS231n homework\n",
    ">1. Data preprocessing\n",
    ">Imported data and divided into training, validation, development, and testing sets\n",
    ">2. Model\n",
    ">Implemented U-Net architecture based on U-Net paper\n",
    "2. nn_helper.py\n",
    ">helper function to encapsulate repeated part of U-Net\n",
    ">1. Conv3x3_Relu_2x\n",
    ">>a sub-model of two convolutional layers, each followed by ReLu\n",
    ">2. Concatenate\n",
    ">>concatenates big tensor to small tensor (this is part of U-Net architecture)\n",
    ">><br>crops the big tensor to fit to small tensor (milesai seem to do the opposite?)\n",
    "3. nn_model.py\n",
    ">started"
   ]
  },
  {
   "attachments": {},
   "cell_type": "markdown",
   "metadata": {},
   "source": [
    "# Sunday April 2, 2023\n",
    "Did:\n",
    "1. LoadData.py\n",
    ">1. Dataset\n",
    ">>derived class of PyTorch's Dataset, inherits functions len() and getitem()\n",
    ">2. Load_h5py\n",
    ">>uses h5py package to load data and calculate input X and label y for this project\n",
    ">3. Complex_to_2_Channel\n",
    ">>modifies image, for each 1-channel pixel of value R + Ci\n",
    ">><br>we now have two channels, values R and C, respectively\n",
    ">><br>convert modified array to Tensor to work with PyTorch\n",
    "2. nn_model.py\n",
    ">now houses implementation of U-Net\n",
    "3. Project.ipynb\n",
    ">Notebook to execute the model\n"
   ]
  }
 ],
 "metadata": {
  "language_info": {
   "name": "python"
  },
  "orig_nbformat": 4
 },
 "nbformat": 4,
 "nbformat_minor": 2
}
