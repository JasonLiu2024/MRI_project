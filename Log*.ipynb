{
 "cells": [
  {
   "attachments": {},
   "cell_type": "markdown",
   "metadata": {},
   "source": [
    "<span style=\"color:#33FF9E\">\n",
    "\n",
    "# **Logs**\n",
    "\n",
    "</span>"
   ]
  },
  {
   "attachments": {},
   "cell_type": "markdown",
   "metadata": {},
   "source": [
    "# March 26, 2023\n",
    "1. unet_model.py\n",
    "changed everything back to default\n",
    "<br>assumption: train.py says n_classes = number of probabilities we want to output\n",
    "<br>if we make n_classes = dimension of image, maybe we get image output?\n",
    "2. train.py\n",
    "changed model's initial n_channels value to 2 (was 3)"
   ]
  }
 ],
 "metadata": {
  "language_info": {
   "name": "python"
  },
  "orig_nbformat": 4
 },
 "nbformat": 4,
 "nbformat_minor": 2
}
