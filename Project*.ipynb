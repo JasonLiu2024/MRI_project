{
 "cells": [
  {
   "cell_type": "code",
   "execution_count": 1,
   "metadata": {},
   "outputs": [],
   "source": [
    "# nn stuff\n",
    "import torch\n",
    "from torch import nn\n",
    "from torch.utils.data import DataLoader\n",
    "from torchvision import datasets\n",
    "from torchvision.transforms import ToTensor\n",
    "import torch.nn.functional as F\n",
    "# official helper stuff\n",
    "import numpy as np\n",
    "import math\n",
    "import h5py\n",
    "import matplotlib.pyplot as plt\n",
    "import scipy\n",
    "# custom helper stuff\n",
    "from LoadData import Dataset"
   ]
  },
  {
   "cell_type": "code",
   "execution_count": null,
   "metadata": {},
   "outputs": [],
   "source": [
    "\"\"\"Values\"\"\"\n",
    "SIZE = 360\n"
   ]
  },
  {
   "cell_type": "code",
   "execution_count": 4,
   "metadata": {},
   "outputs": [
    {
     "name": "stdout",
     "output_type": "stream",
     "text": [
      "Using cpu device\n"
     ]
    },
    {
     "ename": "NameError",
     "evalue": "name 'Dataset' is not defined",
     "output_type": "error",
     "traceback": [
      "\u001b[0;31m---------------------------------------------------------------------------\u001b[0m",
      "\u001b[0;31mNameError\u001b[0m                                 Traceback (most recent call last)",
      "Cell \u001b[0;32mIn[4], line 16\u001b[0m\n\u001b[1;32m     10\u001b[0m partition \u001b[39m=\u001b[39m {\n\u001b[1;32m     11\u001b[0m     \u001b[39m'\u001b[39m\u001b[39mtrain\u001b[39m\u001b[39m'\u001b[39m: \u001b[39mlist\u001b[39m(\u001b[39mrange\u001b[39m(\u001b[39m294\u001b[39m)),\n\u001b[1;32m     12\u001b[0m     \u001b[39m'\u001b[39m\u001b[39mvalidate\u001b[39m\u001b[39m'\u001b[39m: \u001b[39mlist\u001b[39m(\u001b[39mrange\u001b[39m(\u001b[39m294\u001b[39m, \u001b[39m300\u001b[39m)),\n\u001b[1;32m     13\u001b[0m     \u001b[39m'\u001b[39m\u001b[39mtest\u001b[39m\u001b[39m'\u001b[39m: \u001b[39mlist\u001b[39m(\u001b[39mrange\u001b[39m(\u001b[39m300\u001b[39m, \u001b[39m360\u001b[39m))\n\u001b[1;32m     14\u001b[0m }\n\u001b[1;32m     15\u001b[0m labels \u001b[39m=\u001b[39m \u001b[39mlist\u001b[39m[\u001b[39mrange\u001b[39m(\u001b[39m0\u001b[39m, \u001b[39m360\u001b[39m)]\n\u001b[0;32m---> 16\u001b[0m TRAIN \u001b[39m=\u001b[39m Dataset(partition[\u001b[39m'\u001b[39m\u001b[39mtrain\u001b[39m\u001b[39m'\u001b[39m], labels)\n\u001b[1;32m     17\u001b[0m train_DataLoader \u001b[39m=\u001b[39m DataLoader(TRAIN, batch_size\u001b[39m=\u001b[39mParameters[\u001b[39m'\u001b[39m\u001b[39mbatch_size\u001b[39m\u001b[39m'\u001b[39m])\n\u001b[1;32m     19\u001b[0m VALIDATE \u001b[39m=\u001b[39m Dataset(partition[\u001b[39m'\u001b[39m\u001b[39mvalidate\u001b[39m\u001b[39m'\u001b[39m], labels)\n",
      "\u001b[0;31mNameError\u001b[0m: name 'Dataset' is not defined"
     ]
    }
   ],
   "source": [
    "# set device\n",
    "device = \"cuda\" if torch.cuda.is_available() else \"mps\" if torch.backends.mps.is_available() else \"cpu\"\n",
    "print(f\"Using {device} device\")\n",
    "# set training parameters\n",
    "Parameters = {\n",
    "    'batch_size': 64,\n",
    "    'shuffle': True\n",
    "}\n",
    "epochs = 100\n",
    "partition = {\n",
    "    'train': list(range(294)),\n",
    "    'validate': list(range(294, 300)),\n",
    "    'test': list(range(300, 360))\n",
    "}\n",
    "labels = list[range(0, 360)]\n",
    "TRAIN = Dataset(partition['train'], labels)\n",
    "train_DataLoader = DataLoader(TRAIN, batch_size=Parameters['batch_size'])\n",
    "\n",
    "VALIDATE = Dataset(partition['validate'], labels)\n",
    "val_Dataloader = DataLoader(VALIDATE, batch_size=Parameters['batch_size'])"
   ]
  },
  {
   "cell_type": "code",
   "execution_count": null,
   "metadata": {},
   "outputs": [],
   "source": []
  }
 ],
 "metadata": {
  "kernelspec": {
   "display_name": "generalPurpose",
   "language": "python",
   "name": "python3"
  },
  "language_info": {
   "codemirror_mode": {
    "name": "ipython",
    "version": 3
   },
   "file_extension": ".py",
   "mimetype": "text/x-python",
   "name": "python",
   "nbconvert_exporter": "python",
   "pygments_lexer": "ipython3",
   "version": "3.10.9"
  },
  "orig_nbformat": 4
 },
 "nbformat": 4,
 "nbformat_minor": 2
}
