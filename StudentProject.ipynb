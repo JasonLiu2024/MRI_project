{
 "cells": [
  {
   "attachments": {},
   "cell_type": "markdown",
   "metadata": {},
   "source": [
    "# Project: '2022 Fall Student Project: Deep Supervised Learning for MRI Reconstruction' \n",
    "This project is authored by: Weijie Gan and Yuyang Hu on July 14th, 2022\n",
    "Project description: main.pdf\n",
    "<br>In this project, I try to implement the pipeline described in this project."
   ]
  },
  {
   "cell_type": "code",
   "execution_count": 1,
   "metadata": {},
   "outputs": [],
   "source": [
    "import numpy as np\n",
    "import math\n",
    "import h5py"
   ]
  },
  {
   "cell_type": "code",
   "execution_count": 2,
   "metadata": {},
   "outputs": [],
   "source": [
    "import tensorflow as tf"
   ]
  },
  {
   "cell_type": "code",
   "execution_count": 2,
   "metadata": {},
   "outputs": [],
   "source": [
    "filename = \"dataset.hdf5\"\n",
    "data = h5py.File(filename,'r')"
   ]
  },
  {
   "attachments": {},
   "cell_type": "markdown",
   "metadata": {},
   "source": [
    "In this project, the linear model is:\n",
    "\\begin{equation}\n",
    "\\textit{\\textbf{y}} = \\textit{\\textbf{PFx}} + \\textit{e}\n",
    "\\end{equation}\n",
    "$\\textit{\\textbf{x}}\\in\\mathbb{C}^n$ is an image\n",
    "<br>$\\textit{\\textbf{x}}\\in\\mathbb{C}^n$ is a noisy measurement; this is a size-N typle of complex numbers\n",
    "<br>$\\textit{\\textbf{F}}\\in\\mathbb{C}^{n\\times n}$ is the Fourier transform; this is a NxN array complex numbers\n",
    "<br>$\\textit{\\textbf{P}}\\in\\mathbb{C}^{n\\times n}$ is a sampling operator; this is a NxN array complex numbers\n",
    "<br>$\\textit{\\textbf{e}}\\in\\mathbb{C}^{n\\times n}$ is a noise vector; this is a NxN array complex numbers"
   ]
  },
  {
   "attachments": {},
   "cell_type": "markdown",
   "metadata": {},
   "source": [
    "Our loss function is:\n",
    "\\begin{equation}\n",
    "\\frac{1}{N}\\sum_{i}^N \\big\\|f_\\theta(\\^{\\textit{\\textbf{x}}}_i)-\\textit{\\textbf{x}}_i\\big\\|^2_2\n",
    "\\end{equation}\n",
    "$f_\\theta$ is a Convolutional Neural Network. It maps $\\bigl\\{\\^{\\textit{\\textbf{x}}}_i=\\textit{\\textbf{F}}^{-1}\\textit{\\textbf{y}}_i\\bigl\\}^N_i$ to their desired ground truth $\\bigl\\{\\textit{\\textbf{x}}_i\\bigl\\}^N_i$\n",
    "<br>$\\textit{\\textbf{F}}^{-1}$ is inverse Fourier transform\n",
    "<br>$N$ is total number of training samples\n"
   ]
  },
  {
   "attachments": {},
   "cell_type": "markdown",
   "metadata": {},
   "source": [
    "\\begin{equation}\n",
    "\\widehat{x}_i\n",
    "\\end{equation}"
   ]
  },
  {
   "cell_type": "code",
   "execution_count": 3,
   "metadata": {},
   "outputs": [],
   "source": [
    "with h5py.File('dataset.hdf5', 'r') as hdf:\n",
    "    keys = list(hdf.keys())\n",
    "    trnOrg = hdf.get('trnOrg')\n",
    "    ground_truth = np.array(trnOrg)\n",
    "    trnMask = hdf.get('trnMask')\n",
    "    scaling_operator = np.array(trnOrg)"
   ]
  },
  {
   "cell_type": "code",
   "execution_count": 4,
   "metadata": {},
   "outputs": [
    {
     "name": "stdout",
     "output_type": "stream",
     "text": [
      "['trnCsm', 'trnMask', 'trnOrg', 'tstCsm', 'tstMask', 'tstOrg']\n",
      "(360, 256, 232)\n",
      "(360, 256, 232)\n"
     ]
    }
   ],
   "source": [
    "print(keys)\n",
    "print(ground_truth.shape)\n",
    "print(scaling_operator.shape)"
   ]
  },
  {
   "cell_type": "code",
   "execution_count": 7,
   "metadata": {},
   "outputs": [
    {
     "name": "stdout",
     "output_type": "stream",
     "text": [
      "Model: \"sequential_2\"\n",
      "_________________________________________________________________\n",
      " Layer (type)                Output Shape              Param #   \n",
      "=================================================================\n",
      " conv2d_4 (Conv2D)           (None, 26, 26, 32)        320       \n",
      "                                                                 \n",
      " max_pooling2d_4 (MaxPooling  (None, 13, 13, 32)       0         \n",
      " 2D)                                                             \n",
      "                                                                 \n",
      " conv2d_5 (Conv2D)           (None, 11, 11, 32)        9248      \n",
      "                                                                 \n",
      " max_pooling2d_5 (MaxPooling  (None, 5, 5, 32)         0         \n",
      " 2D)                                                             \n",
      "                                                                 \n",
      " flatten_2 (Flatten)         (None, 800)               0         \n",
      "                                                                 \n",
      " dense_4 (Dense)             (None, 128)               102528    \n",
      "                                                                 \n",
      " dense_5 (Dense)             (None, 10)                1290      \n",
      "                                                                 \n",
      "=================================================================\n",
      "Total params: 113,386\n",
      "Trainable params: 113,386\n",
      "Non-trainable params: 0\n",
      "_________________________________________________________________\n"
     ]
    }
   ],
   "source": [
    "model = tf.keras.models.Sequential([\n",
    "    tf.keras.layers.Conv2D(32, (3,3), activation = 'relu', input_shape=(28, 28, 1)),\n",
    "    tf.keras.layers.MaxPooling2D(2, 2),\n",
    "    tf.keras.layers.Conv2D(32, (3,3), activation='relu'),\n",
    "    tf.keras.layers.MaxPooling2D(2, 2),\n",
    "    tf.keras.layers.Flatten(),\n",
    "    tf.keras.layers.Dense(128, activation='relu'),\n",
    "    tf.keras.layers.Dense(10, activation='softmax')\n",
    "])\n",
    "model.compile(optimizer='adam', loss='sparse_categorical_crossentropy')\n",
    "model.summary()"
   ]
  },
  {
   "attachments": {},
   "cell_type": "markdown",
   "metadata": {},
   "source": [
    "model.fit()"
   ]
  }
 ],
 "metadata": {
  "kernelspec": {
   "display_name": "generalPurpose",
   "language": "python",
   "name": "python3"
  },
  "language_info": {
   "codemirror_mode": {
    "name": "ipython",
    "version": 3
   },
   "file_extension": ".py",
   "mimetype": "text/x-python",
   "name": "python",
   "nbconvert_exporter": "python",
   "pygments_lexer": "ipython3",
   "version": "3.10.9"
  },
  "orig_nbformat": 4,
  "vscode": {
   "interpreter": {
    "hash": "1ba8ef3e7b2db9f7a54513b628fe96659401697d721e3769996c9efe2f0233a5"
   }
  }
 },
 "nbformat": 4,
 "nbformat_minor": 2
}
