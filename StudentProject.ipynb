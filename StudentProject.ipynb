{
 "cells": [
  {
   "attachments": {},
   "cell_type": "markdown",
   "metadata": {},
   "source": [
    "# Project: '2022 Fall Student Project: Deep Supervised Learning for MRI Reconstruction' \n",
    "This project is authored by: Weijie Gan and Yuyang Hu on July 14th, 2022\n",
    "Project description: main.pdf\n",
    "<br>In this project, I try to implement the pipeline described in this project."
   ]
  },
  {
   "cell_type": "code",
   "execution_count": 20,
   "metadata": {},
   "outputs": [
    {
     "ename": "",
     "evalue": "",
     "output_type": "error",
     "traceback": [
      "\u001b[1;31mThe Kernel crashed while executing code in the the current cell or a previous cell. Please review the code in the cell(s) to identify a possible cause of the failure. Click <a href='https://aka.ms/vscodeJupyterKernelCrash'>here</a> for more info. View Jupyter <a href='command:jupyter.viewOutput'>log</a> for further details."
     ]
    },
    {
     "ename": "",
     "evalue": "",
     "output_type": "error",
     "traceback": [
      "\u001b[1;31mCanceled future for execute_request message before replies were done"
     ]
    }
   ],
   "source": [
    "import numpy as np\n",
    "import math\n",
    "import h5py\n",
    "import tensorflow as tf"
   ]
  },
  {
   "cell_type": "code",
   "execution_count": null,
   "metadata": {},
   "outputs": [],
   "source": [
    "filename = \"dataset.hdf5\"\n",
    "data = h5py.File(filename,'r')"
   ]
  },
  {
   "attachments": {},
   "cell_type": "markdown",
   "metadata": {},
   "source": [
    "In this project, the linear model is:\n",
    "\\begin{equation}\n",
    "\\textit{\\textbf{y}} = \\textit{\\textbf{PFx}} + \\textit{e}\n",
    "\\end{equation}\n",
    "$\\textit{\\textbf{x}}\\in\\mathbb{C}^n$ is an image\n",
    "<br>$\\textit{\\textbf{x}}\\in\\mathbb{C}^n$ is a noisy measurement\n",
    "<br>$\\textit{\\textbf{F}}\\in\\mathbb{C}^{n\\times n}$ is the Fourier transform\n",
    "<br>$\\textit{\\textbf{P}}\\in\\mathbb{C}^{n\\times n}$ is a sampling operator\n",
    "<br>$\\textit{\\textbf{e}}\\in\\mathbb{C}^{n\\times n}$ is a noise vector"
   ]
  },
  {
   "attachments": {},
   "cell_type": "markdown",
   "metadata": {},
   "source": [
    "Our loss function is:\n",
    "\\begin{equation}\n",
    "\\frac{1}{N}\\sum_{i}^N \\big\\|f_\\theta(\\^{\\textit{\\textbf{x}}}_i)-\\textit{\\textbf{x}}_i\\big\\|^2_2\n",
    "\\end{equation}\n",
    "$f_\\theta$ is a Convolutional Neural Network. It maps $\\bigl\\{\\^{\\textit{\\textbf{x}}}_i=\\textit{\\textbf{F}}^{-1}\\textit{\\textbf{y}}_i\\bigl\\}^N_i$ to their desired ground truth $\\bigl\\{\\textit{\\textbf{x}}_i\\bigl\\}^N_i$\n",
    "<br>$\\textit{\\textbf{F}}^{-1}$ is inverse Fourier transform\n",
    "<br>$N$ is total number of training samples\n"
   ]
  },
  {
   "cell_type": "code",
   "execution_count": null,
   "metadata": {},
   "outputs": [],
   "source": [
    "with h5py.File('dataset.hdf5', 'r') as hdf:\n",
    "    keys = list(hdf.keys())\n",
    "    trnOrg = hdf.get('trnOrg')\n",
    "    ground_truth = np.array(trnOrg)\n",
    "    trnMask = hdf.get('trnMask')\n",
    "    scaling_operator = np.array(trnOrg)"
   ]
  },
  {
   "cell_type": "code",
   "execution_count": null,
   "metadata": {},
   "outputs": [
    {
     "name": "stdout",
     "output_type": "stream",
     "text": [
      "['trnCsm', 'trnMask', 'trnOrg', 'tstCsm', 'tstMask', 'tstOrg']\n",
      "(360, 256, 232)\n",
      "(360, 256, 232)\n"
     ]
    }
   ],
   "source": [
    "print(keys)\n",
    "print(ground_truth.shape)\n",
    "print(scaling_operator.shape)"
   ]
  },
  {
   "cell_type": "code",
   "execution_count": null,
   "metadata": {},
   "outputs": [],
   "source": [
    "model = tf.keras.models.Sequential([\n",
    "    tf.keras.layers.Conv2D(32, (3,3), activation = 'relu', input_shape=(28, 28, 1)),\n",
    "    tf.keras.layers.MaxPooling2D(2, 2),\n",
    "    tf.keras.layers.Conv2D(32, (3,3), activation='relu'),\n",
    "    tf.keras.layers.MaxPooling2D(2, 2),\n",
    "    tf.keras.layers.Flatten(),\n",
    "    tf.keras.layers.Dense(128, activation='relu'),\n",
    "    tf.keras.layers.Dense(10, activation='softmax')\n",
    "])\n",
    "model.compile(optimizer='adam', loss='sparse_categorical_crossentropy', metric=['accuracy'])\n",
    "model.summary()"
   ]
  },
  {
   "attachments": {},
   "cell_type": "markdown",
   "metadata": {},
   "source": [
    "model.fit()"
   ]
  }
 ],
 "metadata": {
  "kernelspec": {
   "display_name": "base",
   "language": "python",
   "name": "python3"
  },
  "language_info": {
   "codemirror_mode": {
    "name": "ipython",
    "version": 3
   },
   "file_extension": ".py",
   "mimetype": "text/x-python",
   "name": "python",
   "nbconvert_exporter": "python",
   "pygments_lexer": "ipython3",
   "version": "3.9.13"
  },
  "orig_nbformat": 4,
  "vscode": {
   "interpreter": {
    "hash": "965bd926a585e7a707780cf489a5aa234b5edeb61e436163a73c6bef09da54c9"
   }
  }
 },
 "nbformat": 4,
 "nbformat_minor": 2
}
